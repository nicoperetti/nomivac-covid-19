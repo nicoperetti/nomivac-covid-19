{
 "cells": [
  {
   "cell_type": "code",
   "execution_count": null,
   "id": "working-experiment",
   "metadata": {},
   "outputs": [],
   "source": [
    "import os\n",
    "import pandas as pd\n",
    "import plotly.express as px\n",
    "import plotly.graph_objects as go\n",
    "from plotly.subplots import make_subplots"
   ]
  },
  {
   "cell_type": "code",
   "execution_count": null,
   "id": "varied-concentrate",
   "metadata": {},
   "outputs": [],
   "source": [
    "DATE = \"2021-06-02\""
   ]
  },
  {
   "cell_type": "markdown",
   "id": "floating-thriller",
   "metadata": {},
   "source": [
    "# Dataset Download"
   ]
  },
  {
   "cell_type": "code",
   "execution_count": null,
   "id": "plain-harbor",
   "metadata": {},
   "outputs": [],
   "source": [
    "os.makedirs(f'data/{DATE}', exist_ok=True)"
   ]
  },
  {
   "cell_type": "code",
   "execution_count": null,
   "id": "caroline-madagascar",
   "metadata": {},
   "outputs": [],
   "source": [
    "# http://datos.salud.gob.ar/dataset/vacunas-contra-covid19-dosis-aplicadas-en-la-republica-argentina\n",
    "# https://sisa.msal.gov.ar/datos/descargas/covid-19/files/datos_nomivac_covid19.zip\n",
    "! wget https://sisa.msal.gov.ar/datos/descargas/covid-19/files/datos_nomivac_covid19.zip -P data/{DATE}"
   ]
  },
  {
   "cell_type": "code",
   "execution_count": null,
   "id": "taken-confidentiality",
   "metadata": {},
   "outputs": [],
   "source": [
    "!unzip data/{DATE}/datos_nomivac_covid19.zip -d data/{DATE}"
   ]
  },
  {
   "cell_type": "markdown",
   "id": "acute-milan",
   "metadata": {},
   "source": [
    "# Load Data"
   ]
  },
  {
   "cell_type": "code",
   "execution_count": null,
   "id": "forward-poster",
   "metadata": {},
   "outputs": [],
   "source": [
    "df = pd.read_csv(f\"data/{DATE}/datos_nomivac_covid19.csv\")\n",
    "df.shape"
   ]
  },
  {
   "cell_type": "markdown",
   "id": "joint-taiwan",
   "metadata": {},
   "source": [
    "### Preprocesamiento"
   ]
  },
  {
   "cell_type": "markdown",
   "id": "ranking-framework",
   "metadata": {},
   "source": [
    "####  Dosis sin fecha de vacunación"
   ]
  },
  {
   "cell_type": "code",
   "execution_count": null,
   "id": "subject-variable",
   "metadata": {},
   "outputs": [],
   "source": [
    "df[df.fecha_aplicacion == \"S.I.\"][\"fecha_aplicacion\"].count()"
   ]
  },
  {
   "cell_type": "code",
   "execution_count": null,
   "id": "overhead-married",
   "metadata": {},
   "outputs": [],
   "source": [
    "df = df[df.fecha_aplicacion != \"S.I.\"]"
   ]
  },
  {
   "cell_type": "code",
   "execution_count": null,
   "id": "available-namibia",
   "metadata": {},
   "outputs": [],
   "source": [
    "df = df[df.fecha_aplicacion < DATE]"
   ]
  },
  {
   "cell_type": "markdown",
   "id": "dietary-favor",
   "metadata": {},
   "source": [
    "### Unificacion astrazeneca + covidshield"
   ]
  },
  {
   "cell_type": "code",
   "execution_count": null,
   "id": "scheduled-contributor",
   "metadata": {},
   "outputs": [],
   "source": [
    "df.vacuna = df.vacuna.replace('COVISHIELD', 'AstraZeneca')"
   ]
  },
  {
   "cell_type": "markdown",
   "id": "common-opposition",
   "metadata": {},
   "source": [
    "### Create dates DataFrame"
   ]
  },
  {
   "cell_type": "code",
   "execution_count": null,
   "id": "available-dominant",
   "metadata": {},
   "outputs": [],
   "source": [
    "dates_df = pd.DataFrame(df.fecha_aplicacion.unique(), columns=[\"fecha_aplicacion\"]).sort_values(\"fecha_aplicacion\").reset_index(drop=True)"
   ]
  },
  {
   "cell_type": "markdown",
   "id": "individual-prior",
   "metadata": {},
   "source": [
    "# Evolutivo segun fecha de vacunación - total pais"
   ]
  },
  {
   "cell_type": "code",
   "execution_count": null,
   "id": "adjustable-default",
   "metadata": {},
   "outputs": [],
   "source": [
    "aux_df = df.fecha_aplicacion.value_counts().sort_index().reset_index()\n",
    "aux_df.columns = [\"fecha_aplicacion\", \"nb_vac\"]\n",
    "aux_df.shape"
   ]
  },
  {
   "cell_type": "code",
   "execution_count": null,
   "id": "recent-retrieval",
   "metadata": {},
   "outputs": [],
   "source": [
    "aux_df[\"7 días\"] = aux_df.nb_vac.rolling(window=7).mean()\n",
    "aux_df[\"28 días\"] = aux_df.nb_vac.rolling(window=28).mean()"
   ]
  },
  {
   "cell_type": "code",
   "execution_count": null,
   "id": "molecular-benefit",
   "metadata": {},
   "outputs": [],
   "source": [
    "fig = px.bar(aux_df, x=\"fecha_aplicacion\", y=\"nb_vac\", labels={\"nb_vac\": \"Cantidad de dosis aplicadas\"})\n",
    "fig.update_traces(marker_color='#C0C0C0')\n",
    "\n",
    "fig2 = px.line(aux_df, x=\"fecha_aplicacion\", y=[\"7 días\", \"28 días\"])\n",
    "fig2.update_traces(mode='markers+lines')\n",
    "fig2.data[0].line.color = \"#0D6400\"\n",
    "fig2.data[1].line.color = \"#AE0000\"\n",
    "\n",
    "fig.add_traces(fig2.data)\n",
    "fig.update_layout(\n",
    "    xaxis = go.layout.XAxis(\n",
    "        tickangle = 45),\n",
    "    title={\n",
    "        'text': \"Evolución de dosis aplicadas - Total país\",\n",
    "        'y':0.95,\n",
    "        'x':0.5,\n",
    "        'xanchor': 'center',\n",
    "        'yanchor': 'top'},\n",
    "    yaxis = dict({\"tickformat\":\",d\"}),\n",
    "    legend_title=\"Media móvil\",\n",
    ")\n",
    "fig.add_annotation(\n",
    "                text=f'Total dosis aplicadas: {aux_df.nb_vac.sum():,}',\n",
    "                align='left',\n",
    "                showarrow=False,\n",
    "                xref='paper',\n",
    "                yref='paper',\n",
    "                y=0.96,\n",
    "                x=0.07,\n",
    "                bordercolor='#000066',\n",
    "                bgcolor='#FFFFFF',\n",
    "                borderwidth=2)\n",
    "fig.show()"
   ]
  },
  {
   "cell_type": "markdown",
   "id": "surrounded-manhattan",
   "metadata": {},
   "source": [
    "# Acumulado 1&2 dosis - total pais"
   ]
  },
  {
   "cell_type": "code",
   "execution_count": null,
   "id": "periodic-upset",
   "metadata": {},
   "outputs": [],
   "source": [
    "aux_df = df.groupby([\"fecha_aplicacion\", \"orden_dosis\"]).grupo_etario.count().reset_index()\n",
    "aux_df.columns = [\"fecha_aplicacion\", \"orden_dosis\", \"nb_vac\"]"
   ]
  },
  {
   "cell_type": "code",
   "execution_count": null,
   "id": "numeric-kernel",
   "metadata": {},
   "outputs": [],
   "source": [
    "aux_df = aux_df[aux_df.orden_dosis == 1].merge(aux_df[aux_df.orden_dosis == 2], how=\"outer\", on=\"fecha_aplicacion\")\n",
    "aux_df.columns = [\"fecha_aplicacion\", \"orden_dosis_1\", \"nb_vac_1\", \"orden_dosis_2\", \"nb_vac_2\"]\n",
    "aux_df.fillna(0, inplace=True)\n",
    "aux_df.nb_vac_2 = aux_df.nb_vac_2.astype(int)\n",
    "aux_df.orden_dosis_2 = aux_df.orden_dosis_2.astype(int)"
   ]
  },
  {
   "cell_type": "code",
   "execution_count": null,
   "id": "conscious-energy",
   "metadata": {},
   "outputs": [],
   "source": [
    "aux_df[\"primera\"] = aux_df.nb_vac_1.cumsum()\n",
    "aux_df[\"segunda\"] = aux_df.nb_vac_2.cumsum()"
   ]
  },
  {
   "cell_type": "code",
   "execution_count": null,
   "id": "painted-danish",
   "metadata": {},
   "outputs": [],
   "source": [
    "fig = px.line(aux_df, x=\"fecha_aplicacion\", y=[\"primera\", \"segunda\"])\n",
    "fig.update_traces(mode='markers+lines')\n",
    "fig.data[0].line.color = \"#0D6400\"\n",
    "fig.data[1].line.color = \"#AE0000\"\n",
    "\n",
    "fig.update_layout(\n",
    "    xaxis = go.layout.XAxis(\n",
    "        tickangle = 45),\n",
    "    title={\n",
    "        'text': \"Acumulado 1&2 dosis - Total País\",\n",
    "        'y':0.95,\n",
    "        'x':0.5,\n",
    "        'xanchor': 'center',\n",
    "        'yanchor': 'top'},\n",
    "    yaxis = dict({\"tickformat\":\",d\"}),\n",
    "    yaxis_title=\"Cantidad de dosis aplicadas\",\n",
    "    legend_title=\"Dosis acumuladas\"\n",
    ")\n",
    "fig.add_annotation(\n",
    "                text=f'Total 1 dosis aplicadas: {aux_df.nb_vac_1.sum():,}',\n",
    "                align='left',\n",
    "                showarrow=False,\n",
    "                xref='paper',\n",
    "                yref='paper',\n",
    "                y=0.96,\n",
    "                x=0.07,\n",
    "                bordercolor='#000066',\n",
    "                bgcolor='#FFFFFF',\n",
    "                borderwidth=2)\n",
    "fig.add_annotation(\n",
    "                text=f'Total 2 dosis aplicadas: {aux_df.nb_vac_2.sum():,}',\n",
    "                align='left',\n",
    "                showarrow=False,\n",
    "                xref='paper',\n",
    "                yref='paper',\n",
    "                y=0.86,\n",
    "                x=0.07,\n",
    "                bordercolor='#000066',\n",
    "                bgcolor='#FFFFFF',\n",
    "                borderwidth=2)\n",
    "\n",
    "fig.show()"
   ]
  },
  {
   "cell_type": "markdown",
   "id": "fleet-louisiana",
   "metadata": {},
   "source": [
    "# Tipo de vacuna - Total Pais"
   ]
  },
  {
   "cell_type": "code",
   "execution_count": null,
   "id": "verified-ecuador",
   "metadata": {},
   "outputs": [],
   "source": [
    "part_df = (df.vacuna.value_counts(normalize=True) * 100).round(2).reset_index()\n",
    "part_df.columns = [\"vacuna\", \"part_%\"]\n",
    "part_df[\"part_%\"] = part_df[\"part_%\"].apply(lambda x: f\"{x} %\")\n",
    "part_df"
   ]
  },
  {
   "cell_type": "code",
   "execution_count": null,
   "id": "responsible-narrative",
   "metadata": {},
   "outputs": [],
   "source": [
    "aux_df = df.groupby([\"vacuna\", \"orden_dosis\"]).grupo_etario.count().reset_index()\n",
    "aux_df.columns = [\"vacuna\", \"orden_dosis\", \"nb_vac\"]\n",
    "aux_df.orden_dosis = aux_df.orden_dosis.astype(str)\n",
    "\n",
    "aux_df = aux_df.merge(part_df, on=\"vacuna\")\n",
    "aux_df.sort_values(\"part_%\", ascending=False, inplace=True)\n",
    "aux_df[\"vacuna\"] = aux_df[\"vacuna\"] + \" - \"+ aux_df[\"part_%\"]\n",
    "aux_df.orden_dosis = aux_df.orden_dosis.str.replace(\"1\", \"primera\").str.replace(\"2\", \"segunda\")\n",
    "aux_df"
   ]
  },
  {
   "cell_type": "code",
   "execution_count": null,
   "id": "compliant-silly",
   "metadata": {},
   "outputs": [],
   "source": [
    "fig = px.bar(aux_df, x=\"vacuna\", y='nb_vac', color=\"orden_dosis\", barmode=\"group\", text='nb_vac')\n",
    "fig.data[0].marker.color = \"#0D6400\"\n",
    "fig.data[1].marker.color = \"#AE0000\"\n",
    "\n",
    "fig.update_traces(texttemplate='%{text:.2s}', textposition='outside')\n",
    "fig.update_layout(uniformtext_minsize=8, uniformtext_mode='hide')\n",
    "\n",
    "fig.update_layout(\n",
    "    title={\n",
    "        'text': \"Dosis aplicadas por tipo de Vacuna - Total país\",\n",
    "        'y':0.95,\n",
    "        'x':0.5,\n",
    "        'xanchor': 'center',\n",
    "        'yanchor': 'top'},\n",
    "    yaxis = dict({\"tickformat\":\",d\"}),\n",
    "    yaxis_title=\"Cantidad de dosis aplicadas\",\n",
    "    xaxis_title=\"Tipo de vacuna - Participación del total\",\n",
    "    legend_title=\"Dosis\"\n",
    ")\n",
    "fig.show()"
   ]
  },
  {
   "cell_type": "markdown",
   "id": "decimal-memory",
   "metadata": {},
   "source": [
    "# Diferimiento de dosis"
   ]
  },
  {
   "cell_type": "code",
   "execution_count": null,
   "id": "nonprofit-degree",
   "metadata": {},
   "outputs": [],
   "source": [
    "def diferimiento_dosis(data):\n",
    "    aux_df = data.groupby([\"fecha_aplicacion\", \"orden_dosis\"]).grupo_etario.count().reset_index()\n",
    "    aux_df.columns = [\"fecha_aplicacion\", \"orden_dosis\", \"nb_vac\"]\n",
    "\n",
    "    aux_df = aux_df[aux_df.orden_dosis == 1].merge(aux_df[aux_df.orden_dosis == 2], how=\"outer\", on=\"fecha_aplicacion\")\n",
    "    aux_df.columns = [\"fecha_aplicacion\", \"orden_dosis_1\", \"nb_vac_1\", \"orden_dosis_2\", \"nb_vac_2\"]\n",
    "    aux_df.fillna(0, inplace=True)\n",
    "    aux_df.nb_vac_2 = aux_df.nb_vac_2.astype(int)\n",
    "    aux_df.orden_dosis_2 = aux_df.orden_dosis_2.astype(int)\n",
    "\n",
    "    # Agregar fechas sin registro\n",
    "    aux_df = dates_df.merge(aux_df, on=\"fecha_aplicacion\", how=\"left\")\n",
    "    aux_df.fillna(0, inplace=True)\n",
    "    \n",
    "    aux_df[\"nb_vac_1_cumsum\"] = aux_df.nb_vac_1.cumsum()\n",
    "    aux_df[\"nb_vac_2_cumsum\"] = aux_df.nb_vac_2.cumsum()\n",
    "\n",
    "    today = aux_df.fecha_aplicacion.max()\n",
    "    forc_df = pd.DataFrame(pd.date_range(today, periods=15, freq='d') + pd.DateOffset(1), columns=[\"fecha_aplicacion\"])\n",
    "    forc_df.fecha_aplicacion = forc_df.fecha_aplicacion.astype(str)\n",
    "\n",
    "    aux_df = pd.concat([aux_df, forc_df]).reset_index(drop=True)\n",
    "    \n",
    "    for i in [60, 90]:\n",
    "        aux_df[f\"nb_vac_1_cumsum_shift_{i}_days\"] = aux_df.nb_vac_1_cumsum.shift(i)\n",
    "\n",
    "    return aux_df, today"
   ]
  },
  {
   "cell_type": "code",
   "execution_count": null,
   "id": "checked-tomato",
   "metadata": {},
   "outputs": [],
   "source": [
    "def diff_plot(data, today):\n",
    "    fig = px.line(data, x=\"fecha_aplicacion\", y=[\"nb_vac_2_cumsum\"] + [f\"nb_vac_1_cumsum_shift_{i}_days\" for i in [60, 90]])\n",
    "    fig.update_traces(mode='markers+lines')\n",
    "\n",
    "    color_l = [\"#AE0000\", \"#003333\", \"#003300\"]\n",
    "    name_l = [\"Segundas\", \"Primeras hace 60 días\", \"Primeras hace 90 días\"]\n",
    "    for i, (color, name) in enumerate(zip(color_l, name_l)):    \n",
    "        fig.data[i].line.color = color\n",
    "        fig.data[i].name = name\n",
    "\n",
    "    fig.add_vline(x=today, line_width=3, line_dash=\"dash\", line_color='#C0C0C0')\n",
    "    fig.add_vrect(x0=today, x1=data.fecha_aplicacion.max(), row=\"all\", col=1,\n",
    "                  annotation_text=today, annotation_position=\"top left\",\n",
    "                  fillcolor='#C0C0C0', opacity=0.25, line_width=0)\n",
    "\n",
    "    fig.update_layout(\n",
    "        xaxis = go.layout.XAxis(\n",
    "            tickangle = 45),\n",
    "        title={\n",
    "            'text': \"Diferimiento de segundas dosis - Todos los tipos - Total país\",\n",
    "            'y':0.95,\n",
    "            'x':0.5,\n",
    "            'xanchor': 'center',\n",
    "            'yanchor': 'top'},\n",
    "        yaxis = dict({\"tickformat\":\",d\"}),\n",
    "        yaxis_title=\"Cantidad de dosis aplicadas\",\n",
    "        legend_title=\"Dosis acumuladas\",\n",
    "    )\n",
    "    return fig"
   ]
  },
  {
   "cell_type": "code",
   "execution_count": null,
   "id": "surprising-botswana",
   "metadata": {},
   "outputs": [],
   "source": [
    "aux_df, today = diferimiento_dosis(df)\n",
    "fig = diff_plot(aux_df, today)\n",
    "fig.show()"
   ]
  },
  {
   "cell_type": "markdown",
   "id": "pediatric-socket",
   "metadata": {},
   "source": [
    "### Diferimiento de dosis por tipo"
   ]
  },
  {
   "cell_type": "code",
   "execution_count": null,
   "id": "driving-carnival",
   "metadata": {},
   "outputs": [],
   "source": [
    "for vac_tipo in list(df.vacuna.unique()):\n",
    "    df1 = df[df[\"vacuna\"] == vac_tipo]\n",
    "    aux_df, today = diferimiento_dosis(df1)\n",
    "    fig = diff_plot(aux_df, today)\n",
    "    fig.update_layout(title={\n",
    "        'text': f\"Diferimiento de segundas dosis - {vac_tipo} - Total país\"\n",
    "    })\n",
    "    fig.show()"
   ]
  },
  {
   "cell_type": "code",
   "execution_count": null,
   "id": "patent-newcastle",
   "metadata": {},
   "outputs": [],
   "source": []
  },
  {
   "cell_type": "code",
   "execution_count": null,
   "id": "38143868",
   "metadata": {},
   "outputs": [],
   "source": []
  }
 ],
 "metadata": {
  "kernelspec": {
   "display_name": "Python 3",
   "language": "python",
   "name": "python3"
  },
  "language_info": {
   "codemirror_mode": {
    "name": "ipython",
    "version": 3
   },
   "file_extension": ".py",
   "mimetype": "text/x-python",
   "name": "python",
   "nbconvert_exporter": "python",
   "pygments_lexer": "ipython3",
   "version": "3.8.3"
  }
 },
 "nbformat": 4,
 "nbformat_minor": 5
}
